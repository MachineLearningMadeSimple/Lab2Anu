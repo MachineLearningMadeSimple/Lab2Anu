{
 "cells": [
  {
   "cell_type": "code",
   "execution_count": 2,
   "metadata": {},
   "outputs": [
    {
     "name": "stdout",
     "output_type": "stream",
     "text": [
      "Enter First number: 8\n",
      "Enter Second number 8\n",
      "Sum of  8 and 8 is : 16\n",
      "Difference of  8 and 8 is : 0\n",
      "Product of 8 and 8 is : 64\n",
      "Division of  8 and 8 is : 1.0\n",
      "Floor Division of  8 and 8 is : 1\n",
      "Exponent of  8 and 8 is : 16777216\n",
      "Modulus of  8 and 8 is : 0\n"
     ]
    }
   ],
   "source": [
    "#Step 5\n",
    "\n",
    "num1 = int(input('Enter First number: '))\n",
    "num2 = int(input('Enter Second number '))\n",
    "add = num1 + num2\n",
    "dif = num1 - num2\n",
    "mul = num1 * num2\n",
    "div = num1 / num2\n",
    "floor_div = num1 // num2\n",
    "power = num1 ** num2\n",
    "modulus = num1 % num2\n",
    "print('Sum of ',num1 ,'and' ,num2 ,'is :',add)\n",
    "print('Difference of ',num1 ,'and' ,num2 ,'is :',dif)\n",
    "print('Product of' ,num1 ,'and' ,num2 ,'is :',mul)\n",
    "print('Division of ',num1 ,'and' ,num2 ,'is :',div)\n",
    "print('Floor Division of ',num1 ,'and' ,num2 ,'is :',floor_div)\n",
    "print('Exponent of ',num1 ,'and' ,num2 ,'is :',power)\n",
    "print('Modulus of ',num1 ,'and' ,num2 ,'is :',modulus)"
   ]
  },
  {
   "cell_type": "code",
   "execution_count": null,
   "metadata": {},
   "outputs": [],
   "source": []
  }
 ],
 "metadata": {
  "kernelspec": {
   "display_name": "Python 3",
   "language": "python",
   "name": "python3"
  },
  "language_info": {
   "codemirror_mode": {
    "name": "ipython",
    "version": 3
   },
   "file_extension": ".py",
   "mimetype": "text/x-python",
   "name": "python",
   "nbconvert_exporter": "python",
   "pygments_lexer": "ipython3",
   "version": "3.7.3"
  }
 },
 "nbformat": 4,
 "nbformat_minor": 2
}
